{
  "nbformat": 4,
  "nbformat_minor": 0,
  "metadata": {
    "colab": {
      "provenance": [],
      "authorship_tag": "ABX9TyOfb5l2M5u3bDEX5lPKu45z",
      "include_colab_link": true
    },
    "kernelspec": {
      "name": "python3",
      "display_name": "Python 3"
    },
    "language_info": {
      "name": "python"
    }
  },
  "cells": [
    {
      "cell_type": "markdown",
      "metadata": {
        "id": "view-in-github",
        "colab_type": "text"
      },
      "source": [
        "<a href=\"https://colab.research.google.com/github/NillsonRaul/Lazo-if-else/blob/main/Lazo_if_else.ipynb\" target=\"_parent\"><img src=\"https://colab.research.google.com/assets/colab-badge.svg\" alt=\"Open In Colab\"/></a>"
      ]
    },
    {
      "cell_type": "code",
      "execution_count": null,
      "metadata": {
        "id": "Q4nYcBy5ULXa"
      },
      "outputs": [],
      "source": []
    },
    {
      "cell_type": "markdown",
      "source": [
        "Bruno gestiona un pequeño comercio y quiere saber qué producto tuvo el mejor desempeño de ventas el mes pasado. Registró la cantidad vendida de dos productos: manzanas y plátanos. Ahora, necesita escribir un programa que identifique y muestre cuál de ellos tuvo más ventas.\n",
        "\n",
        "Crea un programa que reciba el número de ventas de los dos productos y muestre un mensaje indicando cuál de ellos vendió más. Si las cantidades son iguales, muestra un mensaje diciendo que hubo un empate."
      ],
      "metadata": {
        "id": "3rMAYMwkUL27"
      }
    },
    {
      "cell_type": "code",
      "source": [
        "cant_manzanas = int(input('Digite la cantidad de manzanas vendidas: '))\n",
        "cant_platanos = int(input('Digite la cantidad de platanos vendidas: '))\n",
        "\n",
        "if cant_manzanas > cant_platanos:\n",
        "    print('Las manzanas tuvieron más ventas')\n",
        "elif cant_manzanas < cant_platanos:\n",
        "    print('Los plátanos tuvieron más ventas')\n",
        "else:\n",
        "    print('Hubo un empate')"
      ],
      "metadata": {
        "colab": {
          "base_uri": "https://localhost:8080/"
        },
        "id": "jSyW_GaoUV-U",
        "outputId": "d37ff5c4-85a0-4a48-a04a-355739a8993a"
      },
      "execution_count": null,
      "outputs": [
        {
          "output_type": "stream",
          "name": "stdout",
          "text": [
            "Digite la cantidad de manzanas vendidas: 5\n",
            "Digite la cantidad de platanos vendidas: 5\n",
            "Hubo un empate\n"
          ]
        }
      ]
    },
    {
      "cell_type": "markdown",
      "source": [
        "Lucas trabaja en TI y necesita garantizar que la temperatura de una sala de servidores no supere los 25°C. Quiere un programa que reciba la temperatura actual como entrada y, si es necesario, muestre un mensaje de alerta."
      ],
      "metadata": {
        "id": "ejXSZxlmWOZu"
      }
    },
    {
      "cell_type": "code",
      "source": [
        "temp_actual = int(input('Digite la temperatura actual: '))\n",
        "\n",
        "if temp_actual > 25:\n",
        "    print('¡Alerta! Temperatura por encima del límite permitido')\n",
        "else:\n",
        "    print('La temperatura actual no supera los 25°C, pero sigue monitoreando.')"
      ],
      "metadata": {
        "colab": {
          "base_uri": "https://localhost:8080/"
        },
        "id": "p_EoiAoLWQNL",
        "outputId": "c39910d4-51fe-401e-ef98-efb53425f65a"
      },
      "execution_count": null,
      "outputs": [
        {
          "output_type": "stream",
          "name": "stdout",
          "text": [
            "Digite la temperatura actual: 24\n",
            "La temperatura actual no supera los 25°C, pero sigue monitoreando.\n"
          ]
        }
      ]
    },
    {
      "cell_type": "markdown",
      "source": [
        "Camila está organizando un proyecto y necesita calcular el tiempo total necesario para concluir tres actividades: A, B y C. Sin embargo, si alguna actividad tiene un número de días negativo, el código debe avisar que los valores ingresados son inválidos y no calcular el total.\n",
        "\n",
        "Escribe un programa que reciba el número de días de tres actividades y muestre el tiempo total del proyecto. Si algún valor es negativo, muestra un mensaje informando el error."
      ],
      "metadata": {
        "id": "2DV4_LvcXknP"
      }
    },
    {
      "cell_type": "code",
      "source": [
        "actividad_1 = int(input('Digite el número de días de la actividad 1: '))\n",
        "actividad_2 = int(input('Digite el número de días de la actividad 2: '))\n",
        "actividad_3 = int(input('Digite el número de días de la actividad 3: '))\n",
        "\n",
        "if actividad_1 < 0 or actividad_2 < 0 or actividad_3 < 0:\n",
        "    print('Error: Los días no pueden ser negativos.')\n",
        "else:\n",
        "    tiempo_total = actividad_1 + actividad_2 + actividad_3\n",
        "    print('El tiempo total del protecto es: ', tiempo_total)"
      ],
      "metadata": {
        "colab": {
          "base_uri": "https://localhost:8080/"
        },
        "id": "cWimjIVBXmaI",
        "outputId": "3401c4f9-e37f-4c1e-e598-0dc80b056869"
      },
      "execution_count": null,
      "outputs": [
        {
          "output_type": "stream",
          "name": "stdout",
          "text": [
            "Digite el número de días de la actividad 1: 4\n",
            "Digite el número de días de la actividad 2: 5\n",
            "Digite el número de días de la actividad 3: 9\n",
            "El tiempo total del protecto es:  18\n"
          ]
        }
      ]
    },
    {
      "cell_type": "markdown",
      "source": [
        "Anna Júlia está creando un sistema para calcular el Índice de Masa Corporal (IMC) y proporcionar recomendaciones básicas. El programa debe recibir el peso y la altura de una persona y mostrar el valor del IMC, además de indicar si está por debajo del peso, con peso normal o por encima del peso. Crea un programa que reciba el peso (en kg) y la altura (en metros) y calcule el IMC usando la fórmula: IMC = peso / (altura ** 2)Luego, muestra el valor del IMC y un mensaje indicando si está por debajo del peso (IMC < 18.5), peso normal (18.5 <= IMC < 25) o por encima del peso (IMC >= 25)."
      ],
      "metadata": {
        "id": "cQcYzcBeZGxN"
      }
    },
    {
      "cell_type": "code",
      "source": [
        "peso = float(input('Digite su peso (kg): '))\n",
        "altura = float(input('Digite su altura (mts): '))\n",
        "\n",
        "imc = peso / (altura ** 2)\n",
        "\n",
        "if imc < 18.5:\n",
        "    print(f'Tu indice de masa corporal es: {imc:.2f}. Debemos trabajar en tu salud, esta Bajo peso')\n",
        "elif imc >= 18.5 and imc < 25:\n",
        "    print(f'Tu indice de masa corporal es: {imc:.2f}. Tienes un peso normal')\n",
        "else:\n",
        "    print(f'Tu indice de masa corporal es: {imc:.2f}. Debemos trabajar en tu salud, estas con Sobrepeso')"
      ],
      "metadata": {
        "colab": {
          "base_uri": "https://localhost:8080/"
        },
        "id": "as2OrpurZVMx",
        "outputId": "5a3b4c9e-e44d-4ba6-e3be-18e1bd9ed668"
      },
      "execution_count": null,
      "outputs": [
        {
          "output_type": "stream",
          "name": "stdout",
          "text": [
            "Digite su peso (kg): 70\n",
            "Digite su altura (mts): 1.75\n",
            "Tu indice de masa corporal es: 22.86. Tienes un peso normal\n"
          ]
        }
      ]
    },
    {
      "cell_type": "markdown",
      "source": [
        "Laura está desarrollando un sistema para saber si una persona tiene derecho a recibir un beneficio social. Para eso, la persona debe cumplir las siguientes condiciones:\n",
        "\n",
        "Tener ingresos menores o iguales a $2,000.\n",
        "Tener al menos un hijo o hija.\n",
        "Crea un programa que reciba los ingresos mensuales y la cantidad de hijos de una persona, y diga si tiene derecho al beneficio."
      ],
      "metadata": {
        "id": "UjfR1zsKbQXf"
      }
    },
    {
      "cell_type": "code",
      "source": [
        "ingreso_personal = float(input('Digite su ingreso mensual: $'))\n",
        "cant_hijos = int(input('Digite la cantidad de hijos que tiene: '))\n",
        "\n",
        "if ingreso_personal <= 2000 and cant_hijos >= 1:\n",
        "    print('Usted tiene derecho al beneficio social')\n",
        "else:\n",
        "    print('Lo sentimos, no cumple con los requisitos para optar al beneficio social')"
      ],
      "metadata": {
        "colab": {
          "base_uri": "https://localhost:8080/"
        },
        "id": "dHEwq6W5bWvS",
        "outputId": "cb8c3e3e-90a3-4bc9-fd0d-9c17b70389a1"
      },
      "execution_count": null,
      "outputs": [
        {
          "output_type": "stream",
          "name": "stdout",
          "text": [
            "Digite su ingreso mensual: $1000\n",
            "Digite la cantidad de hijos que tiene: 0\n",
            "Lo sentimos, no cumple con los requisitos para optar al beneficio social\n"
          ]
        }
      ]
    },
    {
      "cell_type": "markdown",
      "source": [
        "Una empresa evalúa a sus empleados con base en dos criterios:\n",
        "\n",
        "* Puntuación de desempeño (de 0 a 10)\n",
        "\n",
        "* Años trabajados\n",
        "\n",
        "Reglas:\n",
        "\n",
        "* Si la puntuación es mayor o igual a 7:\n",
        "\n",
        "  * Si trabajó más de 5 años: \"Elegible para ascenso\"\n",
        "\n",
        "  * Si trabajó 5 años o menos: \"Buen desempeño, sigue así\"\n",
        "\n",
        "* Si la puntuación es menor a 7: \"Necesita mejorar\"\n",
        "\n",
        "Crea un programa que reciba la puntuación y los años trabajados, y muestre el mensaje adecuado."
      ],
      "metadata": {
        "id": "OT16uZFacVp3"
      }
    },
    {
      "cell_type": "code",
      "source": [
        "desempeño_empleado = int(input('Digite la puntuación entre 0 y 10 de desempeño del empleado: '))\n",
        "años_trabajados = int(input('Digite la cantidad de años que el empleado ha trabajado: '))\n",
        "\n",
        "if desempeño_empleado > 10 or desempeño_empleado < 0:\n",
        "  print('Puntuación inválida')\n",
        "elif desempeño_empleado >= 7:\n",
        "    if años_trabajados > 5:\n",
        "        print('El empleado es elegible para ascenso')\n",
        "    else:\n",
        "        print('Buen desempeño, sigue así')\n",
        "else:\n",
        "    print('Necesita mejorar')"
      ],
      "metadata": {
        "colab": {
          "base_uri": "https://localhost:8080/"
        },
        "id": "Q0X_pZY4caHL",
        "outputId": "70cc00dc-854d-4793-8eee-e1a86f734dd8"
      },
      "execution_count": null,
      "outputs": [
        {
          "output_type": "stream",
          "name": "stdout",
          "text": [
            "Digite la puntuación entre 0 y 10 de desempeño del empleado: 8\n",
            "Digite la cantidad de años que el empleado ha trabajado: 4\n",
            "Buen desempeño, sigue así\n"
          ]
        }
      ]
    },
    {
      "cell_type": "markdown",
      "source": [
        "Estás desarrollando un pequeño juego. El usuario ingresa un número entero y el programa debe evaluar lo siguiente:\n",
        "\n",
        "* Si el número es divisible por 3 y 5, muestra: \"¡Número mágico!\"\n",
        "* Si solo es divisible por 3, muestra: \"Divisible por 3\"\n",
        "* Si solo es divisible por 5, muestra: \"Divisible por 5\"\n",
        "* Si no es divisible por ninguno, muestra: \"No es un número mágico\""
      ],
      "metadata": {
        "id": "VS4DvqzEe8KG"
      }
    },
    {
      "cell_type": "code",
      "source": [
        "num_usuario = int(input('Digite un número entero: '))\n",
        "\n",
        "if num_usuario % 3 == 0 and num_usuario % 5 == 0:\n",
        "    print('¡Número mágico!')\n",
        "elif num_usuario % 3 == 0:\n",
        "    print('Divisible por 3')\n",
        "elif num_usuario % 5 == 0:\n",
        "    print('Divisible por 5')\n",
        "else:\n",
        "    print('No es un número mágico')"
      ],
      "metadata": {
        "colab": {
          "base_uri": "https://localhost:8080/"
        },
        "id": "gGuOr5VTfHJu",
        "outputId": "55fe69b3-b5e3-41fe-cb07-483d773d83fd"
      },
      "execution_count": null,
      "outputs": [
        {
          "output_type": "stream",
          "name": "stdout",
          "text": [
            "Digite un número entero: 16\n",
            "No es un número mágico\n"
          ]
        }
      ]
    },
    {
      "cell_type": "markdown",
      "source": [
        "Una escuela otorga becas según tres criterios:\n",
        "\n",
        "* Ingreso familiar mensual.\n",
        "* Promedio del estudiante.\n",
        "* Asistencia (en porcentaje).\n",
        "\n",
        "Reglas:\n",
        "\n",
        "* Si el ingreso es menor a $1,500 y el promedio es mayor a 8.0 y la asistencia es al menos 90% → \"Beca completa\"\n",
        "\n",
        "* Si el ingreso es menor a $2,500 y promedio mayor a 7.0 y asistencia al menos 85% → \"Media beca\"\n",
        "\n",
        "* En otros casos → \"No elegible para beca\""
      ],
      "metadata": {
        "id": "xuehoWKjgZw3"
      }
    },
    {
      "cell_type": "code",
      "source": [
        "print('Sistema de clasificación para becas escolares.\\n\\n Para saber si le corresponde el beneficio de beda, ingrese los siguientes datos:\\n')\n",
        "ingreso_familiar = float(input('Digite el ingreso familiar mensual: $'))\n",
        "promedio_estudiante = float(input('Digite el promedio del estudiante: '))\n",
        "asistencia_estudiante = float(input('Digite la asistencia del estudiante en porcentaje: '))\n",
        "\n",
        "if ingreso_familiar < 1500 and promedio_estudiante > 8.0 and asistencia_estudiante >= 90:\n",
        "    print('Beca completa')\n",
        "elif ingreso_familiar < 2500 and promedio_estudiante > 7.0 and asistencia_estudiante >= 85:\n",
        "    print('Media beca')\n",
        "else:\n",
        "    print('No elegible para beca')"
      ],
      "metadata": {
        "colab": {
          "base_uri": "https://localhost:8080/"
        },
        "id": "6xGe4pdogpcK",
        "outputId": "f5b63f7f-9c26-4ae8-c090-15a0a2817967"
      },
      "execution_count": null,
      "outputs": [
        {
          "output_type": "stream",
          "name": "stdout",
          "text": [
            "Sistema de clasificación para becas escolares.\n",
            "\n",
            " Para saber si le corresponde el beneficio de beda, ingrese los siguientes datos:\n",
            "\n",
            "Digite el ingreso familiar mensual: $10000\n",
            "Digite el promedio del estudiante: 5.6\n",
            "Digite la asistencia del estudiante en porcentaje: 77\n",
            "No elegible para beca\n"
          ]
        }
      ]
    },
    {
      "cell_type": "markdown",
      "source": [
        "Un sistema de transporte cobra según la edad del pasajero y la distancia recorrida:\n",
        "\n",
        "* Menores de 6 años: Viajan gratis.\n",
        "* De 6 a 18 años:\n",
        "  * Hasta 20 km: $1.50\n",
        "\n",
        "  * Más de 20 km: $2.50\n",
        "  \n",
        "* Mayores de 18:\n",
        "  * Hasta 20 km: $2.50\n",
        "\n",
        "  * Más de 20 km: $4.00"
      ],
      "metadata": {
        "id": "XpvDIh1VickB"
      }
    },
    {
      "cell_type": "code",
      "source": [
        "edad_pasajero = int(input('Digite la edad del pasajero: '))\n",
        "distancia_recorrida = float(input('Digite la distancia recorrida en km: '))\n",
        "\n",
        "if edad_pasajero < 6:\n",
        "    print('Viajan gratis')\n",
        "elif edad_pasajero >= 6 and edad_pasajero <= 18:\n",
        "    if distancia_recorrida <= 20:\n",
        "        print('El costo del viaje es: $1.50')\n",
        "    else:\n",
        "        print('El costo del viaje es: $2.50')\n",
        "else:\n",
        "    if distancia_recorrida <= 20:\n",
        "        print('El costo del viaje es: $2.50')\n",
        "    else:\n",
        "        print('El costo del viaje es: $4.00')"
      ],
      "metadata": {
        "colab": {
          "base_uri": "https://localhost:8080/"
        },
        "id": "j_capNDxiuEh",
        "outputId": "44db091f-00eb-4f5f-958d-ccb2a0135b6e"
      },
      "execution_count": null,
      "outputs": [
        {
          "output_type": "stream",
          "name": "stdout",
          "text": [
            "Digite la edad del pasajero: 25\n",
            "Digite la distancia recorrida en km: 120\n",
            "El costo del viaje es: $4.00\n"
          ]
        }
      ]
    },
    {
      "cell_type": "markdown",
      "source": [
        "Una empresa evalúa su trimestre con base en:\n",
        "\n",
        "* Ingresos totales\n",
        "* Gastos totales\n",
        "* Número de nuevos clientes\n",
        "\n",
        "Clasificación:\n",
        "\n",
        "* Si ingresos - gastos > $10,000 y más de 50 nuevos clientes → \"Trimestre Excelente\"\n",
        "\n",
        "* Si ingresos - gastos > $5,000 y al menos 20 clientes → \"Trimestre Bueno\"\n",
        "\n",
        "* Si ingresos - gastos > 0 → \"Trimestre Regular\"\n",
        "\n",
        "* Si ingresos - gastos ≤ 0 → \"Trimestre Deficitario\""
      ],
      "metadata": {
        "id": "-9md2CCckX0z"
      }
    },
    {
      "cell_type": "code",
      "source": [
        "print('Sistema de evaluación de desempeño empresarial.\\n\\n Para evaluar el desempeño del trimestre ingrese los siguientes datos: \\n')\n",
        "\n",
        "ingresos_totales = float(input('Digite los ingresos totales del trimestre: $'))\n",
        "gastos_totales = float(input('Digite los gastos totales del trimestre: $'))\n",
        "nuevos_clientes = int(input('Digite la cantidad de nuevos clientes: '))\n",
        "\n",
        "ganancia_bruta = ingresos_totales - gastos_totales\n",
        "\n",
        "if ganancia_bruta > 10000 and nuevos_clientes > 50:\n",
        "    print('Trimestre Excelente')\n",
        "elif ganancia_bruta > 5000 and nuevos_clientes >= 20:\n",
        "    print('Trimestre Bueno')\n",
        "elif ganancia_bruta > 0:\n",
        "    print('Trimestre Regular')\n",
        "else:\n",
        "    print('Trimestre Deficitario')"
      ],
      "metadata": {
        "colab": {
          "base_uri": "https://localhost:8080/"
        },
        "id": "3tNPtX96km5r",
        "outputId": "5070a260-df8a-4435-f11d-2ef11d5f9438"
      },
      "execution_count": null,
      "outputs": [
        {
          "output_type": "stream",
          "name": "stdout",
          "text": [
            "Sistema de evaluación de desempeño empresarial.\n",
            "\n",
            " Para evaluar el desempeño del trimestre ingrese los siguientes datos: \n",
            "\n",
            "Digite los ingresos totales del trimestre: $10000\n",
            "Digite los gastos totales del trimestre: $10000\n",
            "Digite la cantidad de nuevos clientes: 0\n",
            "Trimestre Deficitario\n"
          ]
        }
      ]
    }
  ]
}